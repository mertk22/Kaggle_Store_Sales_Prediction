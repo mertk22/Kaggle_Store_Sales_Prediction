{
 "cells": [
  {
   "cell_type": "markdown",
   "id": "f848e2e9",
   "metadata": {},
   "source": [
    "## https://www.kaggle.com/code/adnanshikh/listen-to-secrets-in-your-data"
   ]
  },
  {
   "cell_type": "code",
   "execution_count": 31,
   "id": "f95140d3",
   "metadata": {},
   "outputs": [],
   "source": [
    "import pandas as pd\n",
    "import numpy as np\n",
    "import matplotlib.pyplot as plt\n",
    "import seaborn as sns"
   ]
  },
  {
   "cell_type": "code",
   "execution_count": 3,
   "id": "a4c8f1c9",
   "metadata": {},
   "outputs": [],
   "source": [
    "train = pd.read_csv(\"train.csv\")\n",
    "test = pd.read_csv(\"test.csv\")"
   ]
  },
  {
   "cell_type": "code",
   "execution_count": 4,
   "id": "4fc133a4",
   "metadata": {},
   "outputs": [
    {
     "name": "stdout",
     "output_type": "stream",
     "text": [
      "==========id ==========\n",
      "Type is:  int64\n",
      "0          1\n",
      "2000584    1\n",
      "2000586    1\n",
      "2000587    1\n",
      "2000588    1\n",
      "          ..\n",
      "1000298    1\n",
      "1000299    1\n",
      "1000300    1\n",
      "1000301    1\n",
      "3000887    1\n",
      "Name: id, Length: 3000888, dtype: int64\n",
      "Number of unique values:  3000888\n",
      "Number of null values:  0\n",
      "==========date ==========\n",
      "Type is:  object\n",
      "2013-01-01    1782\n",
      "2016-01-15    1782\n",
      "2016-02-08    1782\n",
      "2016-02-07    1782\n",
      "2016-02-06    1782\n",
      "              ... \n",
      "2014-07-13    1782\n",
      "2014-07-12    1782\n",
      "2014-07-11    1782\n",
      "2014-07-10    1782\n",
      "2017-08-15    1782\n",
      "Name: date, Length: 1684, dtype: int64\n",
      "Number of unique values:  1684\n",
      "Number of null values:  0\n",
      "==========store_nbr ==========\n",
      "Type is:  int64\n",
      "1     55572\n",
      "46    55572\n",
      "36    55572\n",
      "37    55572\n",
      "38    55572\n",
      "39    55572\n",
      "4     55572\n",
      "40    55572\n",
      "41    55572\n",
      "42    55572\n",
      "43    55572\n",
      "44    55572\n",
      "45    55572\n",
      "47    55572\n",
      "10    55572\n",
      "48    55572\n",
      "49    55572\n",
      "5     55572\n",
      "50    55572\n",
      "51    55572\n",
      "52    55572\n",
      "53    55572\n",
      "54    55572\n",
      "6     55572\n",
      "7     55572\n",
      "8     55572\n",
      "35    55572\n",
      "34    55572\n",
      "33    55572\n",
      "32    55572\n",
      "11    55572\n",
      "12    55572\n",
      "13    55572\n",
      "14    55572\n",
      "15    55572\n",
      "16    55572\n",
      "17    55572\n",
      "18    55572\n",
      "19    55572\n",
      "2     55572\n",
      "20    55572\n",
      "21    55572\n",
      "22    55572\n",
      "23    55572\n",
      "24    55572\n",
      "25    55572\n",
      "26    55572\n",
      "27    55572\n",
      "28    55572\n",
      "29    55572\n",
      "3     55572\n",
      "30    55572\n",
      "31    55572\n",
      "9     55572\n",
      "Name: store_nbr, dtype: int64\n",
      "Number of unique values:  54\n",
      "Number of null values:  0\n",
      "==========family ==========\n",
      "Type is:  object\n",
      "AUTOMOTIVE                    90936\n",
      "HOME APPLIANCES               90936\n",
      "SCHOOL AND OFFICE SUPPLIES    90936\n",
      "PRODUCE                       90936\n",
      "PREPARED FOODS                90936\n",
      "POULTRY                       90936\n",
      "PLAYERS AND ELECTRONICS       90936\n",
      "PET SUPPLIES                  90936\n",
      "PERSONAL CARE                 90936\n",
      "MEATS                         90936\n",
      "MAGAZINES                     90936\n",
      "LIQUOR,WINE,BEER              90936\n",
      "LINGERIE                      90936\n",
      "LAWN AND GARDEN               90936\n",
      "LADIESWEAR                    90936\n",
      "HOME CARE                     90936\n",
      "HOME AND KITCHEN II           90936\n",
      "BABY CARE                     90936\n",
      "HOME AND KITCHEN I            90936\n",
      "HARDWARE                      90936\n",
      "GROCERY II                    90936\n",
      "GROCERY I                     90936\n",
      "FROZEN FOODS                  90936\n",
      "EGGS                          90936\n",
      "DELI                          90936\n",
      "DAIRY                         90936\n",
      "CLEANING                      90936\n",
      "CELEBRATION                   90936\n",
      "BREAD/BAKERY                  90936\n",
      "BOOKS                         90936\n",
      "BEVERAGES                     90936\n",
      "BEAUTY                        90936\n",
      "SEAFOOD                       90936\n",
      "Name: family, dtype: int64\n",
      "Number of unique values:  33\n",
      "Number of null values:  0\n",
      "==========sales ==========\n",
      "Type is:  float64\n",
      "0.000       939130\n",
      "1.000       115291\n",
      "2.000        85959\n",
      "3.000        68575\n",
      "4.000        57846\n",
      "             ...  \n",
      "116.541          1\n",
      "363.533          1\n",
      "141.322          1\n",
      "409.879          1\n",
      "2419.729         1\n",
      "Name: sales, Length: 379610, dtype: int64\n",
      "Number of unique values:  379610\n",
      "Number of null values:  0\n",
      "==========onpromotion ==========\n",
      "Type is:  int64\n",
      "0      2389559\n",
      "1       174551\n",
      "2        79386\n",
      "3        45862\n",
      "4        31659\n",
      "        ...   \n",
      "313          1\n",
      "452          1\n",
      "642          1\n",
      "305          1\n",
      "425          1\n",
      "Name: onpromotion, Length: 362, dtype: int64\n",
      "Number of unique values:  362\n",
      "Number of null values:  0\n"
     ]
    }
   ],
   "source": [
    "def info(dataset):\n",
    "    \n",
    "    \"\"\" This defination is to print most valuable information\n",
    "        about dataset columns.\n",
    "        Input: dataset\n",
    "        Output: dataset columns information\n",
    "    \"\"\"\n",
    "    for column in dataset.columns:\n",
    "        print('==========%s =========='%column)\n",
    "        print('Type is: ',dataset[column].dtype)\n",
    "        print(dataset[column].value_counts())\n",
    "        print('Number of unique values: ',dataset[column].nunique())\n",
    "        print('Number of null values: ',dataset[column].isna().sum())\n",
    "\n",
    "info(train)"
   ]
  },
  {
   "cell_type": "code",
   "execution_count": 35,
   "id": "3d66cba9",
   "metadata": {},
   "outputs": [
    {
     "name": "stdout",
     "output_type": "stream",
     "text": [
      "7.358757818882655\n"
     ]
    },
    {
     "data": {
      "text/plain": [
       "count    3.000888e+06\n",
       "mean     3.577757e+02\n",
       "std      1.101998e+03\n",
       "min      0.000000e+00\n",
       "25%      0.000000e+00\n",
       "50%      1.100000e+01\n",
       "75%      1.958473e+02\n",
       "max      1.247170e+05\n",
       "Name: sales, dtype: float64"
      ]
     },
     "metadata": {},
     "output_type": "display_data"
    },
    {
     "name": "stderr",
     "output_type": "stream",
     "text": [
      "C:\\Users\\mertk\\miniconda3\\envs\\env\\lib\\site-packages\\seaborn\\distributions.py:2619: FutureWarning: `distplot` is a deprecated function and will be removed in a future version. Please adapt your code to use either `displot` (a figure-level function with similar flexibility) or `histplot` (an axes-level function for histograms).\n",
      "  warnings.warn(msg, FutureWarning)\n"
     ]
    },
    {
     "data": {
      "image/png": "[encoded data removed]",
      "text/plain": [
       "<Figure size 432x288 with 1 Axes>"
      ]
     },
     "metadata": {
      "needs_background": "light"
     },
     "output_type": "display_data"
    }
   ],
   "source": [
    "print(train.sales.skew())\n",
    "display(train[\"sales\"].describe())\n",
    "sns.distplot(train['sales'],bins=6)\n",
    "plt.show()"
   ]
  },
  {
   "cell_type": "code",
   "execution_count": 37,
   "id": "facd8ae8",
   "metadata": {
    "scrolled": true
   },
   "outputs": [
    {
     "name": "stdout",
     "output_type": "stream",
     "text": [
      "<class 'pandas.core.frame.DataFrame'>\n",
      "RangeIndex: 3000888 entries, 0 to 3000887\n",
      "Data columns (total 6 columns):\n",
      " #   Column       Dtype   \n",
      "---  ------       -----   \n",
      " 0   id           int32   \n",
      " 1   date         object  \n",
      " 2   store_nbr    int8    \n",
      " 3   family       category\n",
      " 4   sales        float32 \n",
      " 5   onpromotion  int16   \n",
      "dtypes: category(1), float32(1), int16(1), int32(1), int8(1), object(1)\n",
      "memory usage: 57.2+ MB\n"
     ]
    },
    {
     "data": {
      "text/plain": [
       "None"
      ]
     },
     "metadata": {},
     "output_type": "display_data"
    },
    {
     "name": "stdout",
     "output_type": "stream",
     "text": [
      "\n",
      "Indeed, we succeed to reduce the memory usage from 137M to 57M (more than half) this will be reflected in speed processing especially for EDA tasks.\n"
     ]
    }
   ],
   "source": [
    "train['id']=train.id.astype('int32')\n",
    "train['store_nbr']=train.store_nbr.astype('int8')\n",
    "train['family']=train.family.astype('category')\n",
    "train['sales']=train.sales.astype('float32')\n",
    "train['onpromotion']=train.onpromotion.astype('int16')\n",
    "display(train.info(verbose=True,memory_usage=True))\n",
    "print('\\nIndeed, we succeed to reduce the memory usage from 137M to 57M (more than half) this will be reflected in speed processing especially for EDA tasks.')"
   ]
  },
  {
   "cell_type": "code",
   "execution_count": 66,
   "id": "8fbb4468",
   "metadata": {
    "scrolled": true
   },
   "outputs": [
    {
     "name": "stderr",
     "output_type": "stream",
     "text": [
      "C:\\Users\\mertk\\AppData\\Local\\Temp\\ipykernel_12868\\1109737622.py:1: FutureWarning: Indexing with multiple keys (implicitly converted to a tuple of keys) will be deprecated, use a list instead.\n",
      "  avg_sales = train.groupby(\"date\")[\"sales\",\"onpromotion\"].sum().reset_index()\n"
     ]
    }
   ],
   "source": [
    "avg_sales = train.groupby(\"date\")[\"sales\",\"onpromotion\"].sum().reset_index()"
   ]
  },
  {
   "cell_type": "code",
   "execution_count": 80,
   "id": "4c731c93",
   "metadata": {},
   "outputs": [
    {
     "data": {
      "text/plain": [
       "<AxesSubplot:xlabel='onpromotion', ylabel='sales'>"
      ]
     },
     "execution_count": 80,
     "metadata": {},
     "output_type": "execute_result"
    },
    {
     "data": {
      "image/png": "[encoded data removed]",
      "text/plain": [
       "<Figure size 720x360 with 1 Axes>"
      ]
     },
     "metadata": {
      "needs_background": "light"
     },
     "output_type": "display_data"
    }
   ],
   "source": [
    "plt.figure(figsize=(10,5))\n",
    "sns.regplot(data=avg_sales, x=\"onpromotion\",\n",
    "            y=\"sales\",\n",
    "            scatter_kws={\"color\":\"0.4\"},\n",
    "            line_kws={\"color\":\"red\", \"linewidth\":3})"
   ]
  },
  {
   "cell_type": "code",
   "execution_count": 52,
   "id": "0f637033",
   "metadata": {
    "scrolled": true
   },
   "outputs": [
    {
     "data": {
      "text/html": [
       "<div>\n",
       "<style scoped>\n",
       "    .dataframe tbody tr th:only-of-type {\n",
       "        vertical-align: middle;\n",
       "    }\n",
       "\n",
       "    .dataframe tbody tr th {\n",
       "        vertical-align: top;\n",
       "    }\n",
       "\n",
       "    .dataframe thead th {\n",
       "        text-align: right;\n",
       "    }\n",
       "</style>\n",
       "<table border=\"1\" class=\"dataframe\">\n",
       "  <thead>\n",
       "    <tr style=\"text-align: right;\">\n",
       "      <th></th>\n",
       "      <th>sales</th>\n",
       "      <th>onpromotion</th>\n",
       "    </tr>\n",
       "  </thead>\n",
       "  <tbody>\n",
       "    <tr>\n",
       "      <th>sales</th>\n",
       "      <td>1.000000</td>\n",
       "      <td>0.427923</td>\n",
       "    </tr>\n",
       "    <tr>\n",
       "      <th>onpromotion</th>\n",
       "      <td>0.427923</td>\n",
       "      <td>1.000000</td>\n",
       "    </tr>\n",
       "  </tbody>\n",
       "</table>\n",
       "</div>"
      ],
      "text/plain": [
       "                sales  onpromotion\n",
       "sales        1.000000     0.427923\n",
       "onpromotion  0.427923     1.000000"
      ]
     },
     "execution_count": 52,
     "metadata": {},
     "output_type": "execute_result"
    }
   ],
   "source": [
    "train[[\"sales\",\"onpromotion\"]].corr()"
   ]
  },
  {
   "cell_type": "code",
   "execution_count": 138,
   "id": "9c466880",
   "metadata": {},
   "outputs": [],
   "source": [
    "train_eda = train.copy() ## Initializing a copy of train dataset for EDA purpose,\n",
    "##                          and to preserve the original train dataset\n",
    "train_eda[\"date\"] = pd.to_datetime(train[\"date\"])\n",
    "train_eda=train_eda.set_index('date')"
   ]
  },
  {
   "cell_type": "code",
   "execution_count": 82,
   "id": "325a05df",
   "metadata": {
    "scrolled": true
   },
   "outputs": [
    {
     "data": {
      "text/html": [
       "<div>\n",
       "<style scoped>\n",
       "    .dataframe tbody tr th:only-of-type {\n",
       "        vertical-align: middle;\n",
       "    }\n",
       "\n",
       "    .dataframe tbody tr th {\n",
       "        vertical-align: top;\n",
       "    }\n",
       "\n",
       "    .dataframe thead th {\n",
       "        text-align: right;\n",
       "    }\n",
       "</style>\n",
       "<table border=\"1\" class=\"dataframe\">\n",
       "  <thead>\n",
       "    <tr style=\"text-align: right;\">\n",
       "      <th></th>\n",
       "      <th>id</th>\n",
       "      <th>store_nbr</th>\n",
       "      <th>family</th>\n",
       "      <th>sales</th>\n",
       "      <th>onpromotion</th>\n",
       "    </tr>\n",
       "    <tr>\n",
       "      <th>date</th>\n",
       "      <th></th>\n",
       "      <th></th>\n",
       "      <th></th>\n",
       "      <th></th>\n",
       "      <th></th>\n",
       "    </tr>\n",
       "  </thead>\n",
       "  <tbody>\n",
       "    <tr>\n",
       "      <th>2013-01-01</th>\n",
       "      <td>0</td>\n",
       "      <td>1</td>\n",
       "      <td>AUTOMOTIVE</td>\n",
       "      <td>0.000000</td>\n",
       "      <td>0</td>\n",
       "    </tr>\n",
       "    <tr>\n",
       "      <th>2013-01-01</th>\n",
       "      <td>1</td>\n",
       "      <td>1</td>\n",
       "      <td>BABY CARE</td>\n",
       "      <td>0.000000</td>\n",
       "      <td>0</td>\n",
       "    </tr>\n",
       "    <tr>\n",
       "      <th>2013-01-01</th>\n",
       "      <td>2</td>\n",
       "      <td>1</td>\n",
       "      <td>BEAUTY</td>\n",
       "      <td>0.000000</td>\n",
       "      <td>0</td>\n",
       "    </tr>\n",
       "    <tr>\n",
       "      <th>2013-01-01</th>\n",
       "      <td>3</td>\n",
       "      <td>1</td>\n",
       "      <td>BEVERAGES</td>\n",
       "      <td>0.000000</td>\n",
       "      <td>0</td>\n",
       "    </tr>\n",
       "    <tr>\n",
       "      <th>2013-01-01</th>\n",
       "      <td>4</td>\n",
       "      <td>1</td>\n",
       "      <td>BOOKS</td>\n",
       "      <td>0.000000</td>\n",
       "      <td>0</td>\n",
       "    </tr>\n",
       "    <tr>\n",
       "      <th>...</th>\n",
       "      <td>...</td>\n",
       "      <td>...</td>\n",
       "      <td>...</td>\n",
       "      <td>...</td>\n",
       "      <td>...</td>\n",
       "    </tr>\n",
       "    <tr>\n",
       "      <th>2017-08-15</th>\n",
       "      <td>3000883</td>\n",
       "      <td>9</td>\n",
       "      <td>POULTRY</td>\n",
       "      <td>438.132996</td>\n",
       "      <td>0</td>\n",
       "    </tr>\n",
       "    <tr>\n",
       "      <th>2017-08-15</th>\n",
       "      <td>3000884</td>\n",
       "      <td>9</td>\n",
       "      <td>PREPARED FOODS</td>\n",
       "      <td>154.552994</td>\n",
       "      <td>1</td>\n",
       "    </tr>\n",
       "    <tr>\n",
       "      <th>2017-08-15</th>\n",
       "      <td>3000885</td>\n",
       "      <td>9</td>\n",
       "      <td>PRODUCE</td>\n",
       "      <td>2419.729004</td>\n",
       "      <td>148</td>\n",
       "    </tr>\n",
       "    <tr>\n",
       "      <th>2017-08-15</th>\n",
       "      <td>3000886</td>\n",
       "      <td>9</td>\n",
       "      <td>SCHOOL AND OFFICE SUPPLIES</td>\n",
       "      <td>121.000000</td>\n",
       "      <td>8</td>\n",
       "    </tr>\n",
       "    <tr>\n",
       "      <th>2017-08-15</th>\n",
       "      <td>3000887</td>\n",
       "      <td>9</td>\n",
       "      <td>SEAFOOD</td>\n",
       "      <td>16.000000</td>\n",
       "      <td>0</td>\n",
       "    </tr>\n",
       "  </tbody>\n",
       "</table>\n",
       "<p>3000888 rows × 5 columns</p>\n",
       "</div>"
      ],
      "text/plain": [
       "                 id  store_nbr                      family        sales  \\\n",
       "date                                                                      \n",
       "2013-01-01        0          1                  AUTOMOTIVE     0.000000   \n",
       "2013-01-01        1          1                   BABY CARE     0.000000   \n",
       "2013-01-01        2          1                      BEAUTY     0.000000   \n",
       "2013-01-01        3          1                   BEVERAGES     0.000000   \n",
       "2013-01-01        4          1                       BOOKS     0.000000   \n",
       "...             ...        ...                         ...          ...   \n",
       "2017-08-15  3000883          9                     POULTRY   438.132996   \n",
       "2017-08-15  3000884          9              PREPARED FOODS   154.552994   \n",
       "2017-08-15  3000885          9                     PRODUCE  2419.729004   \n",
       "2017-08-15  3000886          9  SCHOOL AND OFFICE SUPPLIES   121.000000   \n",
       "2017-08-15  3000887          9                     SEAFOOD    16.000000   \n",
       "\n",
       "            onpromotion  \n",
       "date                     \n",
       "2013-01-01            0  \n",
       "2013-01-01            0  \n",
       "2013-01-01            0  \n",
       "2013-01-01            0  \n",
       "2013-01-01            0  \n",
       "...                 ...  \n",
       "2017-08-15            0  \n",
       "2017-08-15            1  \n",
       "2017-08-15          148  \n",
       "2017-08-15            8  \n",
       "2017-08-15            0  \n",
       "\n",
       "[3000888 rows x 5 columns]"
      ]
     },
     "execution_count": 82,
     "metadata": {},
     "output_type": "execute_result"
    }
   ],
   "source": [
    "train_eda"
   ]
  },
  {
   "cell_type": "code",
   "execution_count": 106,
   "id": "da886a1b",
   "metadata": {},
   "outputs": [],
   "source": [
    "temp = train_eda.groupby(\"family\")[\"sales\"].mean().sort_values(ascending=False).to_frame()"
   ]
  },
  {
   "cell_type": "code",
   "execution_count": 107,
   "id": "a87e3538",
   "metadata": {
    "scrolled": true
   },
   "outputs": [
    {
     "data": {
      "text/html": [
       "<div>\n",
       "<style scoped>\n",
       "    .dataframe tbody tr th:only-of-type {\n",
       "        vertical-align: middle;\n",
       "    }\n",
       "\n",
       "    .dataframe tbody tr th {\n",
       "        vertical-align: top;\n",
       "    }\n",
       "\n",
       "    .dataframe thead th {\n",
       "        text-align: right;\n",
       "    }\n",
       "</style>\n",
       "<table border=\"1\" class=\"dataframe\">\n",
       "  <thead>\n",
       "    <tr style=\"text-align: right;\">\n",
       "      <th></th>\n",
       "      <th>sales</th>\n",
       "    </tr>\n",
       "    <tr>\n",
       "      <th>family</th>\n",
       "      <th></th>\n",
       "    </tr>\n",
       "  </thead>\n",
       "  <tbody>\n",
       "    <tr>\n",
       "      <th>GROCERY I</th>\n",
       "      <td>3776.972168</td>\n",
       "    </tr>\n",
       "    <tr>\n",
       "      <th>BEVERAGES</th>\n",
       "      <td>2385.793213</td>\n",
       "    </tr>\n",
       "    <tr>\n",
       "      <th>PRODUCE</th>\n",
       "      <td>1349.352173</td>\n",
       "    </tr>\n",
       "    <tr>\n",
       "      <th>CLEANING</th>\n",
       "      <td>1072.416748</td>\n",
       "    </tr>\n",
       "    <tr>\n",
       "      <th>DAIRY</th>\n",
       "      <td>709.154907</td>\n",
       "    </tr>\n",
       "    <tr>\n",
       "      <th>BREAD/BAKERY</th>\n",
       "      <td>463.336243</td>\n",
       "    </tr>\n",
       "    <tr>\n",
       "      <th>POULTRY</th>\n",
       "      <td>350.532288</td>\n",
       "    </tr>\n",
       "    <tr>\n",
       "      <th>MEATS</th>\n",
       "      <td>341.849976</td>\n",
       "    </tr>\n",
       "    <tr>\n",
       "      <th>PERSONAL CARE</th>\n",
       "      <td>270.432526</td>\n",
       "    </tr>\n",
       "    <tr>\n",
       "      <th>DELI</th>\n",
       "      <td>265.135071</td>\n",
       "    </tr>\n",
       "    <tr>\n",
       "      <th>HOME CARE</th>\n",
       "      <td>176.198029</td>\n",
       "    </tr>\n",
       "    <tr>\n",
       "      <th>EGGS</th>\n",
       "      <td>171.420517</td>\n",
       "    </tr>\n",
       "    <tr>\n",
       "      <th>FROZEN FOODS</th>\n",
       "      <td>154.766953</td>\n",
       "    </tr>\n",
       "    <tr>\n",
       "      <th>PREPARED FOODS</th>\n",
       "      <td>96.770203</td>\n",
       "    </tr>\n",
       "    <tr>\n",
       "      <th>LIQUOR,WINE,BEER</th>\n",
       "      <td>85.187828</td>\n",
       "    </tr>\n",
       "    <tr>\n",
       "      <th>SEAFOOD</th>\n",
       "      <td>22.163191</td>\n",
       "    </tr>\n",
       "    <tr>\n",
       "      <th>GROCERY II</th>\n",
       "      <td>21.584047</td>\n",
       "    </tr>\n",
       "    <tr>\n",
       "      <th>HOME AND KITCHEN I</th>\n",
       "      <td>20.470343</td>\n",
       "    </tr>\n",
       "    <tr>\n",
       "      <th>HOME AND KITCHEN II</th>\n",
       "      <td>16.722420</td>\n",
       "    </tr>\n",
       "    <tr>\n",
       "      <th>CELEBRATION</th>\n",
       "      <td>8.370469</td>\n",
       "    </tr>\n",
       "    <tr>\n",
       "      <th>LINGERIE</th>\n",
       "      <td>7.182128</td>\n",
       "    </tr>\n",
       "    <tr>\n",
       "      <th>LADIESWEAR</th>\n",
       "      <td>7.160629</td>\n",
       "    </tr>\n",
       "    <tr>\n",
       "      <th>PLAYERS AND ELECTRONICS</th>\n",
       "      <td>6.186857</td>\n",
       "    </tr>\n",
       "    <tr>\n",
       "      <th>AUTOMOTIVE</th>\n",
       "      <td>6.101236</td>\n",
       "    </tr>\n",
       "    <tr>\n",
       "      <th>LAWN AND GARDEN</th>\n",
       "      <td>6.035476</td>\n",
       "    </tr>\n",
       "    <tr>\n",
       "      <th>PET SUPPLIES</th>\n",
       "      <td>3.921263</td>\n",
       "    </tr>\n",
       "    <tr>\n",
       "      <th>BEAUTY</th>\n",
       "      <td>3.715723</td>\n",
       "    </tr>\n",
       "    <tr>\n",
       "      <th>SCHOOL AND OFFICE SUPPLIES</th>\n",
       "      <td>2.961599</td>\n",
       "    </tr>\n",
       "    <tr>\n",
       "      <th>MAGAZINES</th>\n",
       "      <td>2.929082</td>\n",
       "    </tr>\n",
       "    <tr>\n",
       "      <th>HARDWARE</th>\n",
       "      <td>1.137833</td>\n",
       "    </tr>\n",
       "    <tr>\n",
       "      <th>HOME APPLIANCES</th>\n",
       "      <td>0.457476</td>\n",
       "    </tr>\n",
       "    <tr>\n",
       "      <th>BABY CARE</th>\n",
       "      <td>0.110528</td>\n",
       "    </tr>\n",
       "    <tr>\n",
       "      <th>BOOKS</th>\n",
       "      <td>0.070797</td>\n",
       "    </tr>\n",
       "  </tbody>\n",
       "</table>\n",
       "</div>"
      ],
      "text/plain": [
       "                                  sales\n",
       "family                                 \n",
       "GROCERY I                   3776.972168\n",
       "BEVERAGES                   2385.793213\n",
       "PRODUCE                     1349.352173\n",
       "CLEANING                    1072.416748\n",
       "DAIRY                        709.154907\n",
       "BREAD/BAKERY                 463.336243\n",
       "POULTRY                      350.532288\n",
       "MEATS                        341.849976\n",
       "PERSONAL CARE                270.432526\n",
       "DELI                         265.135071\n",
       "HOME CARE                    176.198029\n",
       "EGGS                         171.420517\n",
       "FROZEN FOODS                 154.766953\n",
       "PREPARED FOODS                96.770203\n",
       "LIQUOR,WINE,BEER              85.187828\n",
       "SEAFOOD                       22.163191\n",
       "GROCERY II                    21.584047\n",
       "HOME AND KITCHEN I            20.470343\n",
       "HOME AND KITCHEN II           16.722420\n",
       "CELEBRATION                    8.370469\n",
       "LINGERIE                       7.182128\n",
       "LADIESWEAR                     7.160629\n",
       "PLAYERS AND ELECTRONICS        6.186857\n",
       "AUTOMOTIVE                     6.101236\n",
       "LAWN AND GARDEN                6.035476\n",
       "PET SUPPLIES                   3.921263\n",
       "BEAUTY                         3.715723\n",
       "SCHOOL AND OFFICE SUPPLIES     2.961599\n",
       "MAGAZINES                      2.929082\n",
       "HARDWARE                       1.137833\n",
       "HOME APPLIANCES                0.457476\n",
       "BABY CARE                      0.110528\n",
       "BOOKS                          0.070797"
      ]
     },
     "execution_count": 107,
     "metadata": {},
     "output_type": "execute_result"
    }
   ],
   "source": [
    "temp"
   ]
  },
  {
   "cell_type": "code",
   "execution_count": 108,
   "id": "7184b61e",
   "metadata": {},
   "outputs": [
    {
     "data": {
      "text/plain": [
       "<AxesSubplot:xlabel='sales', ylabel='family'>"
      ]
     },
     "execution_count": 108,
     "metadata": {},
     "output_type": "execute_result"
    },
    {
     "data": {
      "image/png": "[encoded data removed]",
      "text/plain": [
       "<Figure size 864x648 with 1 Axes>"
      ]
     },
     "metadata": {
      "needs_background": "light"
     },
     "output_type": "display_data"
    }
   ],
   "source": [
    "plt.figure(figsize=(12,9))\n",
    "sns.barplot(data=temp, x=temp.sales, y=temp.index, order=list(temp.index))"
   ]
  },
  {
   "cell_type": "code",
   "execution_count": 109,
   "id": "e79f57eb",
   "metadata": {},
   "outputs": [],
   "source": [
    "temp = train_eda.groupby(\"store_nbr\")[\"sales\"].mean().sort_values(ascending=False).to_frame()"
   ]
  },
  {
   "cell_type": "code",
   "execution_count": 110,
   "id": "a188e824",
   "metadata": {
    "scrolled": true
   },
   "outputs": [
    {
     "data": {
      "text/html": [
       "<div>\n",
       "<style scoped>\n",
       "    .dataframe tbody tr th:only-of-type {\n",
       "        vertical-align: middle;\n",
       "    }\n",
       "\n",
       "    .dataframe tbody tr th {\n",
       "        vertical-align: top;\n",
       "    }\n",
       "\n",
       "    .dataframe thead th {\n",
       "        text-align: right;\n",
       "    }\n",
       "</style>\n",
       "<table border=\"1\" class=\"dataframe\">\n",
       "  <thead>\n",
       "    <tr style=\"text-align: right;\">\n",
       "      <th></th>\n",
       "      <th>sales</th>\n",
       "    </tr>\n",
       "    <tr>\n",
       "      <th>store_nbr</th>\n",
       "      <th></th>\n",
       "    </tr>\n",
       "  </thead>\n",
       "  <tbody>\n",
       "    <tr>\n",
       "      <th>44</th>\n",
       "      <td>1117.245239</td>\n",
       "    </tr>\n",
       "    <tr>\n",
       "      <th>45</th>\n",
       "      <td>980.673889</td>\n",
       "    </tr>\n",
       "    <tr>\n",
       "      <th>47</th>\n",
       "      <td>916.798218</td>\n",
       "    </tr>\n",
       "    <tr>\n",
       "      <th>3</th>\n",
       "      <td>908.405518</td>\n",
       "    </tr>\n",
       "    <tr>\n",
       "      <th>49</th>\n",
       "      <td>781.330444</td>\n",
       "    </tr>\n",
       "    <tr>\n",
       "      <th>46</th>\n",
       "      <td>753.905945</td>\n",
       "    </tr>\n",
       "    <tr>\n",
       "      <th>48</th>\n",
       "      <td>646.604919</td>\n",
       "    </tr>\n",
       "    <tr>\n",
       "      <th>51</th>\n",
       "      <td>592.231506</td>\n",
       "    </tr>\n",
       "    <tr>\n",
       "      <th>8</th>\n",
       "      <td>548.734741</td>\n",
       "    </tr>\n",
       "    <tr>\n",
       "      <th>50</th>\n",
       "      <td>515.601746</td>\n",
       "    </tr>\n",
       "    <tr>\n",
       "      <th>11</th>\n",
       "      <td>509.709167</td>\n",
       "    </tr>\n",
       "    <tr>\n",
       "      <th>7</th>\n",
       "      <td>484.993347</td>\n",
       "    </tr>\n",
       "    <tr>\n",
       "      <th>9</th>\n",
       "      <td>475.229279</td>\n",
       "    </tr>\n",
       "    <tr>\n",
       "      <th>6</th>\n",
       "      <td>453.172089</td>\n",
       "    </tr>\n",
       "    <tr>\n",
       "      <th>24</th>\n",
       "      <td>427.692596</td>\n",
       "    </tr>\n",
       "    <tr>\n",
       "      <th>2</th>\n",
       "      <td>387.918182</td>\n",
       "    </tr>\n",
       "    <tr>\n",
       "      <th>39</th>\n",
       "      <td>364.431580</td>\n",
       "    </tr>\n",
       "    <tr>\n",
       "      <th>37</th>\n",
       "      <td>359.365082</td>\n",
       "    </tr>\n",
       "    <tr>\n",
       "      <th>27</th>\n",
       "      <td>345.282196</td>\n",
       "    </tr>\n",
       "    <tr>\n",
       "      <th>4</th>\n",
       "      <td>340.273895</td>\n",
       "    </tr>\n",
       "    <tr>\n",
       "      <th>38</th>\n",
       "      <td>339.379517</td>\n",
       "    </tr>\n",
       "    <tr>\n",
       "      <th>40</th>\n",
       "      <td>331.025635</td>\n",
       "    </tr>\n",
       "    <tr>\n",
       "      <th>28</th>\n",
       "      <td>330.798859</td>\n",
       "    </tr>\n",
       "    <tr>\n",
       "      <th>17</th>\n",
       "      <td>324.461395</td>\n",
       "    </tr>\n",
       "    <tr>\n",
       "      <th>31</th>\n",
       "      <td>319.349182</td>\n",
       "    </tr>\n",
       "    <tr>\n",
       "      <th>34</th>\n",
       "      <td>307.542175</td>\n",
       "    </tr>\n",
       "    <tr>\n",
       "      <th>43</th>\n",
       "      <td>294.963165</td>\n",
       "    </tr>\n",
       "    <tr>\n",
       "      <th>5</th>\n",
       "      <td>280.580231</td>\n",
       "    </tr>\n",
       "    <tr>\n",
       "      <th>36</th>\n",
       "      <td>275.722137</td>\n",
       "    </tr>\n",
       "    <tr>\n",
       "      <th>41</th>\n",
       "      <td>269.758850</td>\n",
       "    </tr>\n",
       "    <tr>\n",
       "      <th>33</th>\n",
       "      <td>255.137497</td>\n",
       "    </tr>\n",
       "    <tr>\n",
       "      <th>1</th>\n",
       "      <td>254.534897</td>\n",
       "    </tr>\n",
       "    <tr>\n",
       "      <th>18</th>\n",
       "      <td>238.598145</td>\n",
       "    </tr>\n",
       "    <tr>\n",
       "      <th>19</th>\n",
       "      <td>234.821671</td>\n",
       "    </tr>\n",
       "    <tr>\n",
       "      <th>20</th>\n",
       "      <td>232.508362</td>\n",
       "    </tr>\n",
       "    <tr>\n",
       "      <th>23</th>\n",
       "      <td>209.662796</td>\n",
       "    </tr>\n",
       "    <tr>\n",
       "      <th>15</th>\n",
       "      <td>206.061859</td>\n",
       "    </tr>\n",
       "    <tr>\n",
       "      <th>25</th>\n",
       "      <td>205.517136</td>\n",
       "    </tr>\n",
       "    <tr>\n",
       "      <th>14</th>\n",
       "      <td>204.921875</td>\n",
       "    </tr>\n",
       "    <tr>\n",
       "      <th>53</th>\n",
       "      <td>201.831268</td>\n",
       "    </tr>\n",
       "    <tr>\n",
       "      <th>54</th>\n",
       "      <td>198.975800</td>\n",
       "    </tr>\n",
       "    <tr>\n",
       "      <th>16</th>\n",
       "      <td>197.696915</td>\n",
       "    </tr>\n",
       "    <tr>\n",
       "      <th>12</th>\n",
       "      <td>191.809143</td>\n",
       "    </tr>\n",
       "    <tr>\n",
       "      <th>13</th>\n",
       "      <td>189.358780</td>\n",
       "    </tr>\n",
       "    <tr>\n",
       "      <th>29</th>\n",
       "      <td>175.001038</td>\n",
       "    </tr>\n",
       "    <tr>\n",
       "      <th>10</th>\n",
       "      <td>172.999100</td>\n",
       "    </tr>\n",
       "    <tr>\n",
       "      <th>21</th>\n",
       "      <td>166.549805</td>\n",
       "    </tr>\n",
       "    <tr>\n",
       "      <th>42</th>\n",
       "      <td>160.976166</td>\n",
       "    </tr>\n",
       "    <tr>\n",
       "      <th>26</th>\n",
       "      <td>139.550888</td>\n",
       "    </tr>\n",
       "    <tr>\n",
       "      <th>35</th>\n",
       "      <td>138.139343</td>\n",
       "    </tr>\n",
       "    <tr>\n",
       "      <th>30</th>\n",
       "      <td>132.838013</td>\n",
       "    </tr>\n",
       "    <tr>\n",
       "      <th>32</th>\n",
       "      <td>107.100624</td>\n",
       "    </tr>\n",
       "    <tr>\n",
       "      <th>22</th>\n",
       "      <td>73.601845</td>\n",
       "    </tr>\n",
       "    <tr>\n",
       "      <th>52</th>\n",
       "      <td>48.516693</td>\n",
       "    </tr>\n",
       "  </tbody>\n",
       "</table>\n",
       "</div>"
      ],
      "text/plain": [
       "                 sales\n",
       "store_nbr             \n",
       "44         1117.245239\n",
       "45          980.673889\n",
       "47          916.798218\n",
       "3           908.405518\n",
       "49          781.330444\n",
       "46          753.905945\n",
       "48          646.604919\n",
       "51          592.231506\n",
       "8           548.734741\n",
       "50          515.601746\n",
       "11          509.709167\n",
       "7           484.993347\n",
       "9           475.229279\n",
       "6           453.172089\n",
       "24          427.692596\n",
       "2           387.918182\n",
       "39          364.431580\n",
       "37          359.365082\n",
       "27          345.282196\n",
       "4           340.273895\n",
       "38          339.379517\n",
       "40          331.025635\n",
       "28          330.798859\n",
       "17          324.461395\n",
       "31          319.349182\n",
       "34          307.542175\n",
       "43          294.963165\n",
       "5           280.580231\n",
       "36          275.722137\n",
       "41          269.758850\n",
       "33          255.137497\n",
       "1           254.534897\n",
       "18          238.598145\n",
       "19          234.821671\n",
       "20          232.508362\n",
       "23          209.662796\n",
       "15          206.061859\n",
       "25          205.517136\n",
       "14          204.921875\n",
       "53          201.831268\n",
       "54          198.975800\n",
       "16          197.696915\n",
       "12          191.809143\n",
       "13          189.358780\n",
       "29          175.001038\n",
       "10          172.999100\n",
       "21          166.549805\n",
       "42          160.976166\n",
       "26          139.550888\n",
       "35          138.139343\n",
       "30          132.838013\n",
       "32          107.100624\n",
       "22           73.601845\n",
       "52           48.516693"
      ]
     },
     "execution_count": 110,
     "metadata": {},
     "output_type": "execute_result"
    }
   ],
   "source": [
    "temp"
   ]
  },
  {
   "cell_type": "code",
   "execution_count": 111,
   "id": "c4db5f8c",
   "metadata": {},
   "outputs": [
    {
     "data": {
      "text/plain": [
       "<AxesSubplot:xlabel='store_nbr', ylabel='sales'>"
      ]
     },
     "execution_count": 111,
     "metadata": {},
     "output_type": "execute_result"
    },
    {
     "data": {
      "image/png": "[encoded data removed]",
      "text/plain": [
       "<Figure size 864x648 with 1 Axes>"
      ]
     },
     "metadata": {
      "needs_background": "light"
     },
     "output_type": "display_data"
    }
   ],
   "source": [
    "plt.figure(figsize=(12,9))\n",
    "sns.barplot(data=temp, x=temp.index, y=temp.sales, order=list(temp.index))"
   ]
  },
  {
   "cell_type": "code",
   "execution_count": 118,
   "id": "044ee7e9",
   "metadata": {},
   "outputs": [
    {
     "data": {
      "text/plain": [
       "date\n",
       "2013-01-01      1.409438\n",
       "2013-01-02    278.390808\n",
       "2013-01-03    202.840195\n",
       "2013-01-04    198.911148\n",
       "2013-01-05    267.873230\n",
       "                 ...    \n",
       "2017-08-11    463.733856\n",
       "2017-08-12    444.798279\n",
       "2017-08-13    485.768616\n",
       "2017-08-14    427.004730\n",
       "2017-08-15    427.980896\n",
       "Name: sales, Length: 1684, dtype: float32"
      ]
     },
     "execution_count": 118,
     "metadata": {},
     "output_type": "execute_result"
    }
   ],
   "source": [
    "avg_sales=train_eda.groupby('date').sales.mean()\n",
    "avg_sales"
   ]
  },
  {
   "cell_type": "code",
   "execution_count": 126,
   "id": "2358b685",
   "metadata": {},
   "outputs": [
    {
     "data": {
      "text/plain": [
       "date\n",
       "2013-01-01           NaN\n",
       "2013-01-02           NaN\n",
       "2013-01-03           NaN\n",
       "2013-01-04           NaN\n",
       "2013-01-05           NaN\n",
       "                 ...    \n",
       "2017-08-11    471.481917\n",
       "2017-08-12    471.783104\n",
       "2017-08-13    471.967562\n",
       "2017-08-14    472.038310\n",
       "2017-08-15    472.039595\n",
       "Name: sales, Length: 1684, dtype: float64"
      ]
     },
     "execution_count": 126,
     "metadata": {},
     "output_type": "execute_result"
    }
   ],
   "source": [
    "moving_avg = avg_sales.rolling(window=365, min_periods=183).mean()\n",
    "moving_avg"
   ]
  },
  {
   "cell_type": "code",
   "execution_count": 132,
   "id": "596664ca",
   "metadata": {},
   "outputs": [
    {
     "data": {
      "image/png": "[encoded data removed]",
      "text/plain": [
       "<Figure size 1080x648 with 1 Axes>"
      ]
     },
     "metadata": {
      "needs_background": "light"
     },
     "output_type": "display_data"
    }
   ],
   "source": [
    "avg_sales=train_eda.groupby('date').sales.mean()\n",
    "moving_avg=avg_sales.rolling(window=365,min_periods=183,center=True).mean()\n",
    "plt.figure(figsize=(15,9))\n",
    "ax=moving_avg.plot(color='red',linewidth=3)\n",
    "plt.xlabel('Date')\n",
    "plt.ylabel('Avg. Sales')\n",
    "plt.title('Avg. Sales Trend Over Years')\n",
    "plt.show()"
   ]
  },
  {
   "cell_type": "code",
   "execution_count": 139,
   "id": "492e53a6",
   "metadata": {},
   "outputs": [],
   "source": [
    "avg_sales = train_eda.groupby(\"date\")[\"sales\"].mean().to_frame()"
   ]
  },
  {
   "cell_type": "code",
   "execution_count": 141,
   "id": "b49e047f",
   "metadata": {},
   "outputs": [
    {
     "name": "stderr",
     "output_type": "stream",
     "text": [
      "C:\\Users\\mertk\\AppData\\Local\\Temp\\ipykernel_12868\\2825197166.py:2: FutureWarning: weekofyear and week have been deprecated, please use DatetimeIndex.isocalendar().week instead, which returns a Series. To exactly reproduce the behavior of week and weekofyear and return an Index, you may call pd.Int64Index(idx.isocalendar().week)\n",
      "  avg_sales[\"week\"] = avg_sales.index.week\n"
     ]
    }
   ],
   "source": [
    "avg_sales[\"day\"] = avg_sales.index.dayofweek\n",
    "avg_sales[\"week\"] = avg_sales.index.week"
   ]
  },
  {
   "cell_type": "code",
   "execution_count": 147,
   "id": "6ea775da",
   "metadata": {},
   "outputs": [],
   "source": [
    "avg_sales[\"dayofyear\"] = avg_sales.index.dayofyear\n",
    "avg_sales[\"year\"] = avg_sales.index.year\n"
   ]
  },
  {
   "cell_type": "code",
   "execution_count": 148,
   "id": "bf683abe",
   "metadata": {},
   "outputs": [
    {
     "ename": "NameError",
     "evalue": "name 'seasonal_plot' is not defined",
     "output_type": "error",
     "traceback": [
      "\u001b[1;31m---------------------------------------------------------------------------\u001b[0m",
      "\u001b[1;31mNameError\u001b[0m                                 Traceback (most recent call last)",
      "Input \u001b[1;32mIn [148]\u001b[0m, in \u001b[0;36m<cell line: 1>\u001b[1;34m()\u001b[0m\n\u001b[1;32m----> 1\u001b[0m \u001b[43mseasonal_plot\u001b[49m(avg_sales, y\u001b[38;5;241m=\u001b[39mavg_sales[\u001b[38;5;124m'\u001b[39m\u001b[38;5;124msales\u001b[39m\u001b[38;5;124m'\u001b[39m], period\u001b[38;5;241m=\u001b[39m\u001b[38;5;124m\"\u001b[39m\u001b[38;5;124mweek\u001b[39m\u001b[38;5;124m\"\u001b[39m, freq\u001b[38;5;241m=\u001b[39m\u001b[38;5;124m\"\u001b[39m\u001b[38;5;124mday\u001b[39m\u001b[38;5;124m\"\u001b[39m)\n\u001b[0;32m      2\u001b[0m seasonal_plot(avg_sales, y\u001b[38;5;241m=\u001b[39mavg_sales[\u001b[38;5;124m'\u001b[39m\u001b[38;5;124msales\u001b[39m\u001b[38;5;124m'\u001b[39m], period\u001b[38;5;241m=\u001b[39m\u001b[38;5;124m\"\u001b[39m\u001b[38;5;124myear\u001b[39m\u001b[38;5;124m\"\u001b[39m, freq\u001b[38;5;241m=\u001b[39m\u001b[38;5;124m\"\u001b[39m\u001b[38;5;124mdayofyear\u001b[39m\u001b[38;5;124m\"\u001b[39m)\n",
      "\u001b[1;31mNameError\u001b[0m: name 'seasonal_plot' is not defined"
     ]
    }
   ],
   "source": [
    "seasonal_plot(avg_sales, y=avg_sales['sales'], period=\"week\", freq=\"day\")\n",
    "seasonal_plot(avg_sales, y=avg_sales['sales'], period=\"year\", freq=\"dayofyear\")"
   ]
  },
  {
   "cell_type": "code",
   "execution_count": 149,
   "id": "0d228508",
   "metadata": {},
   "outputs": [
    {
     "ename": "NameError",
     "evalue": "name 'plot_periodogram' is not defined",
     "output_type": "error",
     "traceback": [
      "\u001b[1;31m---------------------------------------------------------------------------\u001b[0m",
      "\u001b[1;31mNameError\u001b[0m                                 Traceback (most recent call last)",
      "Input \u001b[1;32mIn [149]\u001b[0m, in \u001b[0;36m<cell line: 1>\u001b[1;34m()\u001b[0m\n\u001b[1;32m----> 1\u001b[0m \u001b[43mplot_periodogram\u001b[49m(avg_sales\u001b[38;5;241m.\u001b[39msales)\n",
      "\u001b[1;31mNameError\u001b[0m: name 'plot_periodogram' is not defined"
     ]
    }
   ],
   "source": [
    "plot_periodogram(avg_sales.sales);"
   ]
  },
  {
   "cell_type": "code",
   "execution_count": null,
   "id": "43a2cbad",
   "metadata": {},
   "outputs": [],
   "source": []
  }
 ],
 "metadata": {
  "kernelspec": {
   "display_name": "Python 3 (ipykernel)",
   "language": "python",
   "name": "python3"
  },
  "language_info": {
   "codemirror_mode": {
    "name": "ipython",
    "version": 3
   },
   "file_extension": ".py",
   "mimetype": "text/x-python",
   "name": "python",
   "nbconvert_exporter": "python",
   "pygments_lexer": "ipython3",
   "version": "3.9.7"
  }
 },
 "nbformat": 4,
 "nbformat_minor": 5
}
